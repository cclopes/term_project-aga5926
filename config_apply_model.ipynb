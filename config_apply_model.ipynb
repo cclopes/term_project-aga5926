{
 "cells": [
  {
   "cell_type": "markdown",
   "source": [
    "# Configuring and applying the CNN model in the input dataset\n",
    "\n",
    "*Based on Hands-on presented on 23/07/2021.*\n",
    "\n",
    "## Context\n",
    "The goal of this project is to detect convective systems based on a combination of ABI bands images that highlight different features of these systems by training a convolutional neural network model. The model applied here is composed of 4 layers of [2D image convolution](https://www.tensorflow.org/api_docs/python/tf/keras/layers/Conv2D)."
   ],
   "metadata": {}
  },
  {
   "cell_type": "markdown",
   "source": [
    "## 0. Loading necessary packages"
   ],
   "metadata": {}
  },
  {
   "cell_type": "code",
   "execution_count": 1,
   "source": [
    "import pickle\n",
    "import random\n",
    "\n",
    "import numpy  as np\n",
    "import matplotlib.pyplot as plt\n",
    "\n",
    "import tensorflow as tf\n",
    "import sklearn.preprocessing\n",
    "import sklearn.model_selection"
   ],
   "outputs": [],
   "metadata": {}
  },
  {
   "cell_type": "markdown",
   "source": [
    "## 1. Loading input data\n",
    "\n",
    "The loaded files are consisted of pickle objects with lists of arrays. Each array has a shape of 150 x 150 pixels (made in the script `mask_systems.py`) and the values are normalized between 0 and 1 made in the script `preprocess_model_input.py`.\n",
    "\n",
    "![](data/nomask_random.png)\n",
    "### Fig. 1: Example of unmasked/random images before normalization.\n",
    "\n",
    "*Because of a problem when generating the masked dataset, it will not be used here. However, the unmasked dataset can be considered as \"good\" as a correct masked dataset because it's centered on the convective system detected by the tracking algorithm.*"
   ],
   "metadata": {}
  },
  {
   "cell_type": "code",
   "execution_count": 2,
   "source": [
    "# with open(\"data/norm_mask.pickle\", \"rb\") as input:\n",
    "#     imgs_masked = pickle.load(input)\n",
    "with open(\"data/norm_nomask.pickle\", \"rb\") as input:\n",
    "    imgs_unmasked = pickle.load(input)\n",
    "with open(\"data/norm_random.pickle\", \"rb\") as input:\n",
    "    imgs_random = pickle.load(input)\n",
    "\n",
    "# print(\"Masked images available\", len(imgs_masked))\n",
    "print(\"Unmasked images available:\", len(imgs_unmasked))\n",
    "print(\"Random images available:\", len(imgs_random))\n",
    "\n",
    "img_size = 150  # array size in each dimension"
   ],
   "outputs": [
    {
     "output_type": "stream",
     "name": "stdout",
     "text": [
      "Unmasked images available: 4544\n",
      "Random images available: 1500\n"
     ]
    }
   ],
   "metadata": {}
  },
  {
   "cell_type": "markdown",
   "source": [
    "Since there's more unmasked than random images, it's necessary to take a (random) sample of the images before joining both datasets."
   ],
   "metadata": {}
  },
  {
   "cell_type": "code",
   "execution_count": 3,
   "source": [
    "smp_unmasked = random.sample(imgs_unmasked, 1500)\n",
    "print(\"Unmasked images available:\", len(smp_unmasked))\n",
    "imgs = imgs_random + smp_unmasked\n",
    "print(\"Total images available:\", len(imgs))"
   ],
   "outputs": [
    {
     "output_type": "stream",
     "name": "stdout",
     "text": [
      "Unmasked images available: 1500\n",
      "Total images available: 3000\n"
     ]
    }
   ],
   "metadata": {}
  },
  {
   "cell_type": "markdown",
   "source": [
    "Next, binary labels are created based on the order of the list created above:\n",
    "- `no_convection` = `0` = `[1, 0]`: random images\n",
    "- `convection` = `1` = `[0, 1]`: unmasked images"
   ],
   "metadata": {}
  },
  {
   "cell_type": "code",
   "execution_count": 4,
   "source": [
    "labels = np.repeat([0, 1], 1500, axis=0)\n",
    "oh_encoder = sklearn.preprocessing.OneHotEncoder(sparse=False)\n",
    "oh_labels = oh_encoder.fit_transform(np.reshape(labels, (3000,1)))\n",
    "print(oh_labels)"
   ],
   "outputs": [
    {
     "output_type": "stream",
     "name": "stdout",
     "text": [
      "[[1. 0.]\n",
      " [1. 0.]\n",
      " [1. 0.]\n",
      " ...\n",
      " [0. 1.]\n",
      " [0. 1.]\n",
      " [0. 1.]]\n"
     ]
    }
   ],
   "metadata": {}
  },
  {
   "cell_type": "markdown",
   "source": [
    "## 2. Creating the model inputs\n",
    "\n",
    "`imgs` list input is splitted in two steps:\n",
    "\n",
    "1. Training + validation (90%) and testing (10%) datasets\n",
    "2. Training (80%) and validation (20%) datasets\n",
    "\n",
    "Making a total of 70% training, 20% validation and 10% testing.\n",
    "\n",
    "Another test was made with 60% training, 20% validation and 10% testing. The saved model can be loaded with the code below:\n",
    "\n",
    "```\n",
    "loaded_model = tf.keras.models.load_model('data/cnn_test_80_20', compile=False)\n",
    "```"
   ],
   "metadata": {}
  },
  {
   "cell_type": "code",
   "execution_count": 5,
   "source": [
    "# Creating model inputs\n",
    "x_train, x_test, y_train, y_test = sklearn.model_selection.train_test_split(imgs, oh_labels, stratify=oh_labels, test_size=.1, random_state=0)\n",
    "x_train, x_valid, y_train, y_valid = sklearn.model_selection.train_test_split(x_train, y_train, stratify=y_train, test_size=.2, random_state=0)\n",
    "\n",
    "# Converting to arrays\n",
    "x_train = np.array(x_train)\n",
    "x_valid = np.array(x_valid)\n",
    "x_test  = np.array(x_test)"
   ],
   "outputs": [],
   "metadata": {}
  },
  {
   "cell_type": "markdown",
   "source": [
    "The plot below shows that all three model inputs as proportionally divided within classes."
   ],
   "metadata": {}
  },
  {
   "cell_type": "code",
   "execution_count": 6,
   "source": [
    "fig, ax = plt.subplots(1, 3, figsize=(10,3))\n",
    "\n",
    "ax[0].hist(np.argmax(y_train, axis=1))\n",
    "ax[0].set_title('Training')\n",
    "ax[1].hist(np.argmax(y_valid, axis=1))\n",
    "ax[1].set_title('Validation')\n",
    "ax[2].hist(np.argmax(y_test, axis=1))\n",
    "ax[2].set_title('Testing')\n",
    "\n",
    "ax[0].set_ylabel('Number of samples')\n",
    "ax[1].set_xlabel('Class')"
   ],
   "outputs": [
    {
     "output_type": "execute_result",
     "data": {
      "text/plain": [
       "Text(0.5, 0, 'Class')"
      ]
     },
     "metadata": {},
     "execution_count": 6
    },
    {
     "output_type": "display_data",
     "data": {
      "text/plain": [
       "<Figure size 720x216 with 3 Axes>"
      ],
      "image/png": "[encoded data removed]"
     },
     "metadata": {
      "needs_background": "light"
     }
    }
   ],
   "metadata": {}
  },
  {
   "cell_type": "markdown",
   "source": [
    "## 3. Creating the model\n",
    "\n",
    "The code below creates the CNN model of 4 convolutional layers with the `Adam` optimizer and minimizing the `binary_crossentropy` loss."
   ],
   "metadata": {}
  },
  {
   "cell_type": "code",
   "execution_count": 7,
   "source": [
    "Input   = tf.keras.layers.Input\n",
    "\n",
    "Conv2D  = tf.keras.layers.Conv2D\n",
    "MaxPool = tf.keras.layers.MaxPooling2D\n",
    "Flatten = tf.keras.layers.Flatten\n",
    "Dropout = tf.keras.layers.Dropout\n",
    "Dense   = tf.keras.layers.Dense\n",
    "\n",
    "def Convolutional_Model():\n",
    "    Input_Layer = Input(shape=(img_size, img_size, 1))\n",
    "\n",
    "    l = Conv2D(filters=16, kernel_size=2, activation='relu')(Input_Layer)\n",
    "    l = MaxPool(2)(l)\n",
    "\n",
    "    l = Conv2D(filters=32, kernel_size=2, activation='relu')(l)\n",
    "    l = MaxPool(2)(l)\n",
    "\n",
    "    l = Conv2D(filters=64, kernel_size=2, activation='relu')(l)\n",
    "    l = MaxPool(2)(l)\n",
    "    \n",
    "    l = Conv2D(filters=128, kernel_size=2, activation='relu')(l)\n",
    "    l = MaxPool(2)(l)\n",
    "    \n",
    "    l = Flatten()(l)\n",
    "    \n",
    "    l = Dropout(0.5)(l)\n",
    "    l = Dense(256, activation='relu')(l)\n",
    "    \n",
    "    Output_Layer = Dense(2, activation='softmax')(l)\n",
    "    \n",
    "    model = tf.keras.models.Model(inputs=Input_Layer, outputs=Output_Layer)\n",
    "    model.compile(optimizer='adam', loss='binary_crossentropy', metrics=['binary_accuracy'])\n",
    "    \n",
    "    return model"
   ],
   "outputs": [],
   "metadata": {}
  },
  {
   "cell_type": "markdown",
   "source": [
    "## 4. Applying the model\n",
    "\n",
    "The code below summarizes the model created above and applies it on the training dataset with the validation dataset.\n",
    "\n",
    "The number of steps (`epochs`) chosen was 50, to ensure that the model can be run in a local machine, and the number os samples used in each iteration (`batch_size`) is 100."
   ],
   "metadata": {}
  },
  {
   "cell_type": "code",
   "execution_count": 8,
   "source": [
    "cnn = Convolutional_Model()\n",
    "\n",
    "# Seeing the details of the network\n",
    "cnn.summary()"
   ],
   "outputs": [
    {
     "output_type": "stream",
     "name": "stdout",
     "text": [
      "Model: \"model\"\n",
      "_________________________________________________________________\n",
      "Layer (type)                 Output Shape              Param #   \n",
      "=================================================================\n",
      "input_1 (InputLayer)         [(None, 150, 150, 1)]     0         \n",
      "_________________________________________________________________\n",
      "conv2d (Conv2D)              (None, 149, 149, 16)      80        \n",
      "_________________________________________________________________\n",
      "max_pooling2d (MaxPooling2D) (None, 74, 74, 16)        0         \n",
      "_________________________________________________________________\n",
      "conv2d_1 (Conv2D)            (None, 73, 73, 32)        2080      \n",
      "_________________________________________________________________\n",
      "max_pooling2d_1 (MaxPooling2 (None, 36, 36, 32)        0         \n",
      "_________________________________________________________________\n",
      "conv2d_2 (Conv2D)            (None, 35, 35, 64)        8256      \n",
      "_________________________________________________________________\n",
      "max_pooling2d_2 (MaxPooling2 (None, 17, 17, 64)        0         \n",
      "_________________________________________________________________\n",
      "conv2d_3 (Conv2D)            (None, 16, 16, 128)       32896     \n",
      "_________________________________________________________________\n",
      "max_pooling2d_3 (MaxPooling2 (None, 8, 8, 128)         0         \n",
      "_________________________________________________________________\n",
      "flatten (Flatten)            (None, 8192)              0         \n",
      "_________________________________________________________________\n",
      "dropout (Dropout)            (None, 8192)              0         \n",
      "_________________________________________________________________\n",
      "dense (Dense)                (None, 256)               2097408   \n",
      "_________________________________________________________________\n",
      "dense_1 (Dense)              (None, 2)                 514       \n",
      "=================================================================\n",
      "Total params: 2,141,234\n",
      "Trainable params: 2,141,234\n",
      "Non-trainable params: 0\n",
      "_________________________________________________________________\n"
     ]
    }
   ],
   "metadata": {}
  },
  {
   "cell_type": "code",
   "execution_count": 9,
   "source": [
    "# Fitting the model\n",
    "cnn_fit = cnn.fit(x_train, y_train, validation_data=(x_valid, y_valid), epochs=50, batch_size=100, verbose=1)"
   ],
   "outputs": [
    {
     "output_type": "stream",
     "name": "stdout",
     "text": [
      "Epoch 1/50\n",
      "22/22 [==============================] - 11s 416ms/step - loss: 0.6906 - binary_accuracy: 0.5166 - val_loss: 0.6417 - val_binary_accuracy: 0.5574\n",
      "Epoch 2/50\n",
      "22/22 [==============================] - 7s 310ms/step - loss: 0.6087 - binary_accuracy: 0.7101 - val_loss: 0.3794 - val_binary_accuracy: 0.8722\n",
      "Epoch 3/50\n",
      "22/22 [==============================] - 7s 324ms/step - loss: 0.4104 - binary_accuracy: 0.8395 - val_loss: 0.2795 - val_binary_accuracy: 0.9148\n",
      "Epoch 4/50\n",
      "22/22 [==============================] - 9s 391ms/step - loss: 0.3416 - binary_accuracy: 0.8658 - val_loss: 0.3550 - val_binary_accuracy: 0.8352\n",
      "Epoch 5/50\n",
      "22/22 [==============================] - 10s 460ms/step - loss: 0.3068 - binary_accuracy: 0.8882 - val_loss: 0.2081 - val_binary_accuracy: 0.9315\n",
      "Epoch 6/50\n",
      "22/22 [==============================] - 8s 365ms/step - loss: 0.2197 - binary_accuracy: 0.9223 - val_loss: 0.2195 - val_binary_accuracy: 0.9259\n",
      "Epoch 7/50\n",
      "22/22 [==============================] - 8s 342ms/step - loss: 0.2394 - binary_accuracy: 0.9087 - val_loss: 0.1787 - val_binary_accuracy: 0.9407\n",
      "Epoch 8/50\n",
      "22/22 [==============================] - 8s 354ms/step - loss: 0.2148 - binary_accuracy: 0.9247 - val_loss: 0.1859 - val_binary_accuracy: 0.9389\n",
      "Epoch 9/50\n",
      "22/22 [==============================] - 7s 339ms/step - loss: 0.2285 - binary_accuracy: 0.9082 - val_loss: 0.1762 - val_binary_accuracy: 0.9370\n",
      "Epoch 10/50\n",
      "22/22 [==============================] - 7s 327ms/step - loss: 0.2089 - binary_accuracy: 0.9160 - val_loss: 0.1590 - val_binary_accuracy: 0.9500\n",
      "Epoch 11/50\n",
      "22/22 [==============================] - 7s 327ms/step - loss: 0.2096 - binary_accuracy: 0.9208 - val_loss: 0.1576 - val_binary_accuracy: 0.9296\n",
      "Epoch 12/50\n",
      "22/22 [==============================] - 7s 335ms/step - loss: 0.1785 - binary_accuracy: 0.9302 - val_loss: 0.1402 - val_binary_accuracy: 0.9500\n",
      "Epoch 13/50\n",
      "22/22 [==============================] - 7s 336ms/step - loss: 0.1708 - binary_accuracy: 0.9356 - val_loss: 0.1449 - val_binary_accuracy: 0.9389\n",
      "Epoch 14/50\n",
      "22/22 [==============================] - 7s 330ms/step - loss: 0.1583 - binary_accuracy: 0.9448 - val_loss: 0.1653 - val_binary_accuracy: 0.9315\n",
      "Epoch 15/50\n",
      "22/22 [==============================] - 7s 327ms/step - loss: 0.1569 - binary_accuracy: 0.9351 - val_loss: 0.1218 - val_binary_accuracy: 0.9648\n",
      "Epoch 16/50\n",
      "22/22 [==============================] - 7s 329ms/step - loss: 0.1536 - binary_accuracy: 0.9361 - val_loss: 0.1265 - val_binary_accuracy: 0.9611\n",
      "Epoch 17/50\n",
      "22/22 [==============================] - 7s 327ms/step - loss: 0.1443 - binary_accuracy: 0.9392 - val_loss: 0.1215 - val_binary_accuracy: 0.9630\n",
      "Epoch 18/50\n",
      "22/22 [==============================] - 7s 328ms/step - loss: 0.1336 - binary_accuracy: 0.9461 - val_loss: 0.1296 - val_binary_accuracy: 0.9481\n",
      "Epoch 19/50\n",
      "22/22 [==============================] - 8s 379ms/step - loss: 0.1219 - binary_accuracy: 0.9472 - val_loss: 0.1320 - val_binary_accuracy: 0.9463\n",
      "Epoch 20/50\n",
      "22/22 [==============================] - 8s 375ms/step - loss: 0.1180 - binary_accuracy: 0.9501 - val_loss: 0.1495 - val_binary_accuracy: 0.9222\n",
      "Epoch 21/50\n",
      "22/22 [==============================] - 8s 377ms/step - loss: 0.1383 - binary_accuracy: 0.9456 - val_loss: 0.1013 - val_binary_accuracy: 0.9685\n",
      "Epoch 22/50\n",
      "22/22 [==============================] - 11s 494ms/step - loss: 0.1024 - binary_accuracy: 0.9577 - val_loss: 0.1107 - val_binary_accuracy: 0.9611\n",
      "Epoch 23/50\n",
      "22/22 [==============================] - 8s 369ms/step - loss: 0.1160 - binary_accuracy: 0.9536 - val_loss: 0.1118 - val_binary_accuracy: 0.9630\n",
      "Epoch 24/50\n",
      "22/22 [==============================] - 7s 340ms/step - loss: 0.1117 - binary_accuracy: 0.9575 - val_loss: 0.1198 - val_binary_accuracy: 0.9537\n",
      "Epoch 25/50\n",
      "22/22 [==============================] - 7s 324ms/step - loss: 0.1185 - binary_accuracy: 0.9523 - val_loss: 0.1121 - val_binary_accuracy: 0.9648\n",
      "Epoch 26/50\n",
      "22/22 [==============================] - 7s 326ms/step - loss: 0.1092 - binary_accuracy: 0.9551 - val_loss: 0.1512 - val_binary_accuracy: 0.9315\n",
      "Epoch 27/50\n",
      "22/22 [==============================] - 7s 327ms/step - loss: 0.1048 - binary_accuracy: 0.9543 - val_loss: 0.1116 - val_binary_accuracy: 0.9574\n",
      "Epoch 28/50\n",
      "22/22 [==============================] - 7s 333ms/step - loss: 0.0948 - binary_accuracy: 0.9615 - val_loss: 0.1062 - val_binary_accuracy: 0.9704\n",
      "Epoch 29/50\n",
      "22/22 [==============================] - 7s 327ms/step - loss: 0.0887 - binary_accuracy: 0.9669 - val_loss: 0.1331 - val_binary_accuracy: 0.9407\n",
      "Epoch 30/50\n",
      "22/22 [==============================] - 7s 321ms/step - loss: 0.0925 - binary_accuracy: 0.9596 - val_loss: 0.1110 - val_binary_accuracy: 0.9574\n",
      "Epoch 31/50\n",
      "22/22 [==============================] - 7s 322ms/step - loss: 0.0860 - binary_accuracy: 0.9612 - val_loss: 0.1108 - val_binary_accuracy: 0.9611\n",
      "Epoch 32/50\n",
      "22/22 [==============================] - 7s 329ms/step - loss: 0.0811 - binary_accuracy: 0.9661 - val_loss: 0.1061 - val_binary_accuracy: 0.9593\n",
      "Epoch 33/50\n",
      "22/22 [==============================] - 7s 333ms/step - loss: 0.0817 - binary_accuracy: 0.9660 - val_loss: 0.0999 - val_binary_accuracy: 0.9704\n",
      "Epoch 34/50\n",
      "22/22 [==============================] - 7s 325ms/step - loss: 0.0892 - binary_accuracy: 0.9697 - val_loss: 0.0984 - val_binary_accuracy: 0.9685\n",
      "Epoch 35/50\n",
      "22/22 [==============================] - 7s 332ms/step - loss: 0.0865 - binary_accuracy: 0.9636 - val_loss: 0.1009 - val_binary_accuracy: 0.9741\n",
      "Epoch 36/50\n",
      "22/22 [==============================] - 7s 327ms/step - loss: 0.0723 - binary_accuracy: 0.9717 - val_loss: 0.1145 - val_binary_accuracy: 0.9648\n",
      "Epoch 37/50\n",
      "22/22 [==============================] - 7s 338ms/step - loss: 0.0922 - binary_accuracy: 0.9646 - val_loss: 0.1136 - val_binary_accuracy: 0.9593\n",
      "Epoch 38/50\n",
      "22/22 [==============================] - 7s 334ms/step - loss: 0.1074 - binary_accuracy: 0.9590 - val_loss: 0.1060 - val_binary_accuracy: 0.9611\n",
      "Epoch 39/50\n",
      "22/22 [==============================] - 8s 346ms/step - loss: 0.0952 - binary_accuracy: 0.9653 - val_loss: 0.1223 - val_binary_accuracy: 0.9556\n",
      "Epoch 40/50\n",
      "22/22 [==============================] - 8s 346ms/step - loss: 0.0974 - binary_accuracy: 0.9602 - val_loss: 0.1201 - val_binary_accuracy: 0.9500\n",
      "Epoch 41/50\n",
      "22/22 [==============================] - 8s 383ms/step - loss: 0.0782 - binary_accuracy: 0.9681 - val_loss: 0.1372 - val_binary_accuracy: 0.9611\n",
      "Epoch 42/50\n",
      "22/22 [==============================] - 8s 366ms/step - loss: 0.0793 - binary_accuracy: 0.9653 - val_loss: 0.0964 - val_binary_accuracy: 0.9759\n",
      "Epoch 43/50\n",
      "22/22 [==============================] - 8s 347ms/step - loss: 0.0744 - binary_accuracy: 0.9697 - val_loss: 0.1038 - val_binary_accuracy: 0.9593\n",
      "Epoch 44/50\n",
      "22/22 [==============================] - 7s 330ms/step - loss: 0.0780 - binary_accuracy: 0.9699 - val_loss: 0.1056 - val_binary_accuracy: 0.9685\n",
      "Epoch 45/50\n",
      "22/22 [==============================] - 9s 394ms/step - loss: 0.0628 - binary_accuracy: 0.9704 - val_loss: 0.1076 - val_binary_accuracy: 0.9574\n",
      "Epoch 46/50\n",
      "22/22 [==============================] - 9s 412ms/step - loss: 0.0708 - binary_accuracy: 0.9689 - val_loss: 0.0988 - val_binary_accuracy: 0.9648\n",
      "Epoch 47/50\n",
      "22/22 [==============================] - 9s 403ms/step - loss: 0.0749 - binary_accuracy: 0.9659 - val_loss: 0.1162 - val_binary_accuracy: 0.9593\n",
      "Epoch 48/50\n",
      "22/22 [==============================] - 11s 499ms/step - loss: 0.0550 - binary_accuracy: 0.9761 - val_loss: 0.1041 - val_binary_accuracy: 0.9593\n",
      "Epoch 49/50\n",
      "22/22 [==============================] - 9s 425ms/step - loss: 0.0543 - binary_accuracy: 0.9771 - val_loss: 0.0950 - val_binary_accuracy: 0.9759\n",
      "Epoch 50/50\n",
      "22/22 [==============================] - 9s 393ms/step - loss: 0.0710 - binary_accuracy: 0.9683 - val_loss: 0.1189 - val_binary_accuracy: 0.9611\n"
     ]
    }
   ],
   "metadata": {}
  },
  {
   "cell_type": "code",
   "execution_count": 10,
   "source": [
    "# Saving the model\n",
    "cnn.save('data/cnn_test_90_10', overwrite=False)"
   ],
   "outputs": [
    {
     "output_type": "stream",
     "name": "stdout",
     "text": [
      "INFO:tensorflow:Assets written to: data/cnn_test_90_10/assets\n"
     ]
    }
   ],
   "metadata": {}
  },
  {
   "cell_type": "markdown",
   "source": [
    "## 5. Evaluating model performance\n",
    "\n",
    "The plot below shows the model performance in terms of accuracy and loss between the training and validation datasets by the epochs. In both plots, the validation curves tend to move far away (lower accuracy, higher loss) from the training curves with epochs above 20, showing a tendency of overfitting. In this sense, the value of epoch chosen was adequate to avoid larger overfitting."
   ],
   "metadata": {}
  },
  {
   "cell_type": "code",
   "execution_count": 11,
   "source": [
    "fig, ax = plt.subplots(1, 2, figsize=(10,5))\n",
    "\n",
    "# Plot the training loss and validation loss\n",
    "ax[0].plot(cnn_fit.history['loss'], label='Training')\n",
    "ax[0].plot(cnn_fit.history['val_loss'], label='Validation')\n",
    "ax[0].set_xlabel('Epochs')\n",
    "ax[0].set_ylabel('Loss')\n",
    "ax[0].legend()\n",
    "\n",
    "# Plot the training and validation accuracy\n",
    "ax[1].plot(cnn_fit.history['binary_accuracy'])\n",
    "ax[1].plot(cnn_fit.history['val_binary_accuracy'])\n",
    "ax[1].set_xlabel('Epochs')\n",
    "ax[1].set_ylabel('Accuracy')\n",
    "\n",
    "plt.show()"
   ],
   "outputs": [
    {
     "output_type": "display_data",
     "data": {
      "text/plain": [
       "<Figure size 720x360 with 2 Axes>"
      ],
      "image/png": "[encoded data removed]"
     },
     "metadata": {
      "needs_background": "light"
     }
    }
   ],
   "metadata": {}
  },
  {
   "cell_type": "markdown",
   "source": [
    "The code below evaluates the model in the test dataset. The high accuracy (0.96) and low loss (0.12) shows that the model had a good overall performance."
   ],
   "metadata": {}
  },
  {
   "cell_type": "code",
   "execution_count": 12,
   "source": [
    "cnn.evaluate(x_test, y_test)"
   ],
   "outputs": [
    {
     "output_type": "stream",
     "name": "stdout",
     "text": [
      "10/10 [==============================] - 0s 28ms/step - loss: 0.1167 - binary_accuracy: 0.9600\n"
     ]
    },
    {
     "output_type": "execute_result",
     "data": {
      "text/plain": [
       "[0.11668813228607178, 0.9599999785423279]"
      ]
     },
     "metadata": {},
     "execution_count": 12
    }
   ],
   "metadata": {}
  },
  {
   "cell_type": "markdown",
   "source": [
    "## Conclusions\n",
    "\n",
    "This application shows that a CNN model can be used to detect cloud convection with a high accuracy even with the variety of bands (and different features) included. The dataset used as input is considerably small for this type of application (due to computational limitations and the large amount of data involved, it was not possible to use a larger dataset), which contributes to the overfitting observed. An improvement to this application would be to add the channel band as a layer of each array and include it in the model, to better understand which band is better for the detection."
   ],
   "metadata": {}
  }
 ],
 "metadata": {
  "orig_nbformat": 4,
  "language_info": {
   "name": "python",
   "version": "3.9.6",
   "mimetype": "text/x-python",
   "codemirror_mode": {
    "name": "ipython",
    "version": 3
   },
   "pygments_lexer": "ipython3",
   "nbconvert_exporter": "python",
   "file_extension": ".py"
  },
  "kernelspec": {
   "name": "python3",
   "display_name": "Python 3.9.6 64-bit ('aga5926': conda)"
  },
  "interpreter": {
   "hash": "c75ac63f431f3859ce2a2241f990ba2ea8df0771b67eac4a6670a23ddf30270e"
  }
 },
 "nbformat": 4,
 "nbformat_minor": 2
}